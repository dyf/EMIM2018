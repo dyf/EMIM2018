{
 "cells": [
  {
   "cell_type": "markdown",
   "metadata": {},
   "source": [
    "## Find Cells of Interest\n",
    "Another way to look for data is to search for cells with interesting tuning properties.  We have pre-computed a set of cell metrics.  Take a look at <a href='http://alleninstitute.github.io/AllenSDK/brain_observatory_metrics.html'>this page</a> to see the full list.\n",
    "\n",
    "You can use these properties to filter the full set of cells down to the set your are interested in."
   ]
  },
  {
   "cell_type": "code",
   "execution_count": 1,
   "metadata": {
    "collapsed": true
   },
   "outputs": [],
   "source": [
    "from allensdk.core.brain_observatory_cache import BrainObservatoryCache\n",
    "import pprint\n",
    "boc = BrainObservatoryCache(manifest_file='boc/manifest.json')\n",
    "import pandas as pd"
   ]
  },
  {
   "cell_type": "code",
   "execution_count": 2,
   "metadata": {},
   "outputs": [
    {
     "name": "stdout",
     "output_type": "stream",
     "text": [
      "total cells: 37091\n",
      "VISp cells: 12127\n",
      "cells with sig. response to drifting gratings: 6610\n",
      "direction-selective cells: 686\n"
     ]
    }
   ],
   "source": [
    "visp_ecs = boc.get_experiment_containers(targeted_structures=['VISp'])\n",
    "\n",
    "# Download cells for a set of experiments and convert to DataFrame\n",
    "cells = boc.get_cell_specimens()\n",
    "cells = pd.DataFrame.from_records(cells)\n",
    "print(\"total cells: %d\" % len(cells))\n",
    "\n",
    "# find direction selective cells in VISp\n",
    "visp_ec_ids = [ ec['id'] for ec in visp_ecs ]\n",
    "visp_cells = cells[cells['experiment_container_id'].isin(visp_ec_ids)]\n",
    "print(\"VISp cells: %d\" % len(visp_cells))\n",
    "\n",
    "# significant response to drifting gratings stimulus\n",
    "sig_cells = visp_cells[visp_cells['p_dg'] < 0.05]\n",
    "print(\"cells with sig. response to drifting gratings: %d\" % len(sig_cells))\n",
    "\n",
    "# direction selective cells\n",
    "dsi_cells = sig_cells[(sig_cells['g_dsi_dg'] > 0.9)]\n",
    "print(\"direction-selective cells: %d\" % len(dsi_cells))"
   ]
  },
  {
   "cell_type": "markdown",
   "metadata": {},
   "source": [
    "## Find Experiments for Cells\n",
    "Once you have found a set of cells you would like to investigate, you can use the `BrainObservatoryCache` to find the experiments for those cells that contain the relevant stimulus."
   ]
  },
  {
   "cell_type": "code",
   "execution_count": 3,
   "metadata": {},
   "outputs": [
    {
     "name": "stdout",
     "output_type": "stream",
     "text": [
      "total dsi experiment containers: 45\n",
      "VISp drifting gratings ophys experiments: 45\n",
      "Example ophys experiment:\n",
      "{'acquisition_age_days': 157,\n",
      " 'cre_line': 'Nr5a1-Cre',\n",
      " 'donor_name': '279430',\n",
      " 'experiment_container_id': 569811199,\n",
      " 'fail_eye_tracking': True,\n",
      " 'id': 569811201,\n",
      " 'imaging_depth': 300,\n",
      " 'reporter_line': 'Ai93(TITL-GCaMP6f)',\n",
      " 'session_type': 'three_session_A',\n",
      " 'specimen_name': 'Nr5a1-Cre;Camk2a-tTA;Ai93-279430',\n",
      " 'targeted_structure': 'VISp'}\n"
     ]
    }
   ],
   "source": [
    "import allensdk.brain_observatory.stimulus_info as stim_info\n",
    "\n",
    "# find experiment containers for those cells\n",
    "dsi_ec_ids = dsi_cells['experiment_container_id'].unique()\n",
    "print(\"total dsi experiment containers: %d\" % len(dsi_ec_ids))\n",
    "\n",
    "# Download the ophys experiments containing the drifting gratings stimulus for VISp experiment containers\n",
    "dsi_exps = boc.get_ophys_experiments(experiment_container_ids=dsi_ec_ids, stimuli=[stim_info.DRIFTING_GRATINGS])\n",
    "print(\"VISp drifting gratings ophys experiments: %d\" % len(dsi_exps))\n",
    "\n",
    "print(\"Example ophys experiment:\")\n",
    "pprint.pprint(dsi_exps[11])"
   ]
  },
  {
   "cell_type": "markdown",
   "metadata": {},
   "source": [
    "## Download Experiment Data for a Cell\n",
    "Once you have some experiments, you can download the NWB files that contain the fluorescence traces for segmented cells in those experiments."
   ]
  },
  {
   "cell_type": "code",
   "execution_count": 4,
   "metadata": {},
   "outputs": [
    {
     "name": "stdout",
     "output_type": "stream",
     "text": [
      "Metadata from NWB file:\n",
      "{'age_days': 158,\n",
      " 'cre_line': 'Nr5a1-Cre/wt',\n",
      " 'device': 'Nikon A1R-MP multiphoton microscope',\n",
      " 'device_name': 'CAM2P.2',\n",
      " 'excitation_lambda': '910 nanometers',\n",
      " 'experiment_container_id': 569811199,\n",
      " 'fov': '400x400 microns (512 x 512 pixels)',\n",
      " 'genotype': 'Nr5a1-Cre/wt;Camk2a-tTA/wt;Ai93(TITL-GCaMP6f)/Ai93(TITL-GCaMP6f)',\n",
      " 'imaging_depth_um': 300,\n",
      " 'indicator': 'GCaMP6f',\n",
      " 'ophys_experiment_id': 569811201,\n",
      " 'pipeline_version': '2.0',\n",
      " 'session_start_time': datetime.datetime(2017, 2, 14, 12, 43, 41),\n",
      " 'session_type': 'three_session_A',\n",
      " 'sex': 'male',\n",
      " 'specimen_name': 'Nr5a1-Cre;Camk2a-tTA;Ai93-279430',\n",
      " 'targeted_structure': 'VISp'}\n",
      "stimuli available in this file:\n",
      "['drifting_gratings', 'natural_movie_one', 'natural_movie_three', 'spontaneous']\n"
     ]
    }
   ],
   "source": [
    "ecid = dsi_exps[11]['experiment_container_id']\n",
    "\n",
    "# pick a direction-selective cell and find its NWB file\n",
    "dsi_cell = dsi_cells[dsi_cells['experiment_container_id']==ecid].iloc[0]\n",
    "\n",
    "# figure out which ophys experiment has the drifting gratings stimulus for that cell\n",
    "cell_exp = boc.get_ophys_experiments(cell_specimen_ids=[dsi_cell['cell_specimen_id']],\n",
    "                                     stimuli=[stim_info.DRIFTING_GRATINGS])[0]\n",
    "\n",
    "data_set = boc.get_ophys_experiment_data(cell_exp['id'])\n",
    "\n",
    "print(\"Metadata from NWB file:\")\n",
    "pprint.pprint(data_set.get_metadata())\n",
    "\n",
    "print(\"stimuli available in this file:\")\n",
    "print(data_set.list_stimuli())"
   ]
  },
  {
   "cell_type": "code",
   "execution_count": 5,
   "metadata": {},
   "outputs": [
    {
     "data": {
      "text/plain": [
       "all_stim                                                                   False\n",
       "area                                                                        VISp\n",
       "cell_specimen_id                                                       572392558\n",
       "donor_full_genotype            Nr5a1-Cre/wt;Camk2a-tTA/wt;Ai93(TITL-GCaMP6f)/...\n",
       "dsi_dg                                                                  0.947851\n",
       "experiment_container_id                                                569811199\n",
       "failed_experiment_container                                                False\n",
       "g_dsi_dg                                                                0.941699\n",
       "g_osi_dg                                                                0.996283\n",
       "g_osi_sg                                                                0.634511\n",
       "image_sel_ns                                                            0.367424\n",
       "imaging_depth                                                                300\n",
       "osi_dg                                                                   1.01712\n",
       "osi_sg                                                                   1.31473\n",
       "p_dg                                                                 4.19632e-31\n",
       "p_ns                                                                 2.53312e-09\n",
       "p_run_mod_dg                                                          0.00524902\n",
       "p_run_mod_ns                                                           0.0524269\n",
       "p_run_mod_sg                                                            0.166402\n",
       "p_sg                                                                 1.86828e-11\n",
       "peak_dff_dg                                                              51.6175\n",
       "peak_dff_ns                                                              3.89242\n",
       "peak_dff_sg                                                              2.13181\n",
       "pref_dir_dg                                                                  270\n",
       "pref_image_ns                                                                 79\n",
       "pref_ori_sg                                                                  120\n",
       "pref_phase_sg                                                                  0\n",
       "pref_sf_sg                                                                  0.04\n",
       "pref_tf_dg                                                                     1\n",
       "reliability_dg                                                          0.205739\n",
       "reliability_nm1_a                                                       0.189819\n",
       "reliability_nm1_b                                                      0.0930276\n",
       "reliability_nm1_c                                                            NaN\n",
       "reliability_nm2                                                              NaN\n",
       "reliability_nm3                                                        0.0709469\n",
       "reliability_ns                                                         0.0241464\n",
       "reliability_sg                                                         0.0352909\n",
       "rf_area_off_lsn                                                              NaN\n",
       "rf_area_on_lsn                                                               NaN\n",
       "rf_center_off_x_lsn                                                          NaN\n",
       "rf_center_off_y_lsn                                                          NaN\n",
       "rf_center_on_x_lsn                                                           NaN\n",
       "rf_center_on_y_lsn                                                           NaN\n",
       "rf_chi2_lsn                                                                  NaN\n",
       "rf_distance_lsn                                                              NaN\n",
       "rf_overlap_index_lsn                                                         NaN\n",
       "run_mod_dg                                                              0.946004\n",
       "run_mod_ns                                                              0.956708\n",
       "run_mod_sg                                                               0.68429\n",
       "sfdi_sg                                                                 0.276715\n",
       "specimen_id                                                            557537739\n",
       "tfdi_dg                                                                 0.380863\n",
       "time_to_peak_ns                                                          0.36586\n",
       "time_to_peak_sg                                                          0.39912\n",
       "tld1_id                                                                177839331\n",
       "tld1_name                                                              Nr5a1-Cre\n",
       "tld2_id                                                                177837320\n",
       "tld2_name                                                             Camk2a-tTA\n",
       "tlr1_id                                                                265943423\n",
       "tlr1_name                                                     Ai93(TITL-GCaMP6f)\n",
       "Name: 25483, dtype: object"
      ]
     },
     "execution_count": 5,
     "metadata": {},
     "output_type": "execute_result"
    }
   ],
   "source": [
    "dsi_cell"
   ]
  },
  {
   "cell_type": "code",
   "execution_count": null,
   "metadata": {
    "collapsed": true
   },
   "outputs": [],
   "source": []
  }
 ],
 "metadata": {
  "kernelspec": {
   "display_name": "Python 3",
   "language": "python",
   "name": "python3"
  },
  "language_info": {
   "codemirror_mode": {
    "name": "ipython",
    "version": 3
   },
   "file_extension": ".py",
   "mimetype": "text/x-python",
   "name": "python",
   "nbconvert_exporter": "python",
   "pygments_lexer": "ipython3",
   "version": "3.6.3"
  }
 },
 "nbformat": 4,
 "nbformat_minor": 2
}
